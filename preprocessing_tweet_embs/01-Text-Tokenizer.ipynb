{
 "cells": [
  {
   "cell_type": "code",
   "execution_count": 1,
   "id": "electronic-burning",
   "metadata": {},
   "outputs": [
    {
     "data": {
      "application/vnd.jupyter.widget-view+json": {
       "model_id": "761dcee936d14c63b3931eec2a4d5321",
       "version_major": 2,
       "version_minor": 0
      },
      "text/plain": [
       "tokenizer.json:   0%|          | 0.00/466k [00:00<?, ?B/s]"
      ]
     },
     "metadata": {},
     "output_type": "display_data"
    },
    {
     "name": "stderr",
     "output_type": "stream",
     "text": [
      "D:\\FibVid\\FakeEnv\\Lib\\site-packages\\huggingface_hub\\file_download.py:149: UserWarning: `huggingface_hub` cache-system uses symlinks by default to efficiently store duplicated files but your machine does not support them in C:\\Users\\fanat\\.cache\\huggingface\\hub\\models--bert-base-uncased. Caching files will still work but in a degraded version that might require more space on your disk. This warning can be disabled by setting the `HF_HUB_DISABLE_SYMLINKS_WARNING` environment variable. For more details, see https://huggingface.co/docs/huggingface_hub/how-to-cache#limitations.\n",
      "To support symlinks on Windows, you either need to activate Developer Mode or to run Python as an administrator. In order to see activate developer mode, see this article: https://docs.microsoft.com/en-us/windows/apps/get-started/enable-your-device-for-development\n",
      "  warnings.warn(message)\n"
     ]
    }
   ],
   "source": [
    "from transformers import BertTokenizer, TFBertModel\n",
    "from pymongo import MongoClient, ASCENDING, DESCENDING, HASHED\n",
    "from tqdm.notebook import tqdm\n",
    "\n",
    "conn = MongoClient()\n",
    "\n",
    "fake_fibvid = conn.fake_fibvid\n",
    "tweets  = fake_fibvid.tweets\n",
    "\n",
    "process_fibvid = conn.process_fibvid\n",
    "tweets_bert_tokens  = process_fibvid.tweets_bert_tokens\n",
    "\n",
    "tweets_bert_tokens.create_index([('num_tokens', ASCENDING)])\n",
    "tweets_bert_tokens.create_index([('created', ASCENDING)])\n",
    "tweets_bert_tokens.create_index([('tweetId', HASHED)])\n",
    "tweets_bert_tokens.create_index([('userId', HASHED)])\n",
    "\n",
    "tokenizer = BertTokenizer.from_pretrained('bert-base-uncased')"
   ]
  },
  {
   "cell_type": "code",
   "execution_count": 2,
   "id": "primary-perfume",
   "metadata": {},
   "outputs": [
    {
     "data": {
      "application/vnd.jupyter.widget-view+json": {
       "model_id": "30028f7251164a49906bd1c04a7e8fae",
       "version_major": 2,
       "version_minor": 0
      },
      "text/plain": [
       "  0%|          | 0/299118 [00:00<?, ?it/s]"
      ]
     },
     "metadata": {},
     "output_type": "display_data"
    }
   ],
   "source": [
    "total = tweets.count_documents({})\n",
    "\n",
    "to_store = []\n",
    "\n",
    "for tweet in tqdm(tweets.find(), total=total):\n",
    "    tokens = tokenizer(tweet['text'], truncation=True)\n",
    "    tokens['num_tokens'] = len(tokens['input_ids'])\n",
    "    tokens['created'] = tweet['created']\n",
    "    tokens['userId'] = tweet['userId']\n",
    "    tokens['tweetId'] = tweet['tweetId']\n",
    "    to_store.append(tokens)\n",
    "    if len(to_store) > 10000:\n",
    "        tweets_bert_tokens.insert_many(to_store)\n",
    "        to_store = []\n",
    "        \n",
    "\n",
    "if len(to_store) > 0:\n",
    "    tweets_bert_tokens.insert_many(to_store)\n",
    "    to_store = []"
   ]
  },
  {
   "cell_type": "code",
   "execution_count": null,
   "id": "national-laugh",
   "metadata": {},
   "outputs": [],
   "source": []
  }
 ],
 "metadata": {
  "kernelspec": {
   "display_name": "Python 3 (ipykernel)",
   "language": "python",
   "name": "python3"
  },
  "language_info": {
   "codemirror_mode": {
    "name": "ipython",
    "version": 3
   },
   "file_extension": ".py",
   "mimetype": "text/x-python",
   "name": "python",
   "nbconvert_exporter": "python",
   "pygments_lexer": "ipython3",
   "version": "3.11.5"
  }
 },
 "nbformat": 4,
 "nbformat_minor": 5
}
