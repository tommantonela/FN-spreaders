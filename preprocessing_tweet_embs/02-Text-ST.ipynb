{
 "cells": [
  {
   "cell_type": "code",
   "execution_count": 1,
   "id": "electronic-burning",
   "metadata": {},
   "outputs": [
    {
     "name": "stdout",
     "output_type": "stream",
     "text": [
      "GPU is enabled in this notebook.\n"
     ]
    }
   ],
   "source": [
    "from sentence_transformers import SentenceTransformer\n",
    "from pymongo import MongoClient, ASCENDING, DESCENDING, HASHED\n",
    "from tqdm.notebook import tqdm\n",
    "import torch\n",
    "\n",
    "def set_device():\n",
    "    device = \"cuda\" if torch.cuda.is_available() else \"cpu\"\n",
    "    if device != \"cuda\":\n",
    "        print(\"WARNING: For this notebook to perform best, \"\n",
    "              \"if possible, in the menu under `Runtime` -> \"\n",
    "              \"`Change runtime type.`  select `GPU` \")\n",
    "    else:\n",
    "        print(\"GPU is enabled in this notebook.\")\n",
    "    return device\n",
    "\n",
    "\n",
    "device = set_device()\n",
    "\n",
    "\n",
    "conn = MongoClient()\n",
    "\n",
    "fake_fibvid = conn.fake_fibvid\n",
    "tweets  = fake_fibvid.tweets\n",
    "\n",
    "process_fibvid = conn.process_fibvid\n",
    "tweets_st  = process_fibvid.tweets_st\n",
    "\n",
    "tweets_st.create_index([('created', ASCENDING)])\n",
    "tweets_st.create_index([('tweetId', HASHED)])\n",
    "tweets_st.create_index([('userId', HASHED)])\n",
    "\n",
    "model = SentenceTransformer('all-mpnet-base-v2').to(device)"
   ]
  },
  {
   "cell_type": "code",
   "execution_count": 2,
   "id": "a4c8f67c-4e80-4be3-9a81-165042cbf756",
   "metadata": {},
   "outputs": [],
   "source": [
    "def process(to_process):\n",
    "    to_store = []\n",
    "    texts = [tweet['text'] for tweet in to_process]\n",
    "    embs = model.encode(texts)\n",
    "    for tweet, emb in zip(to_process, embs):\n",
    "        store = {}\n",
    "        store['embs'] = emb.tolist()\n",
    "        store['created'] = tweet['created']\n",
    "        store['userId'] = tweet['userId']\n",
    "        store['tweetId'] = tweet['tweetId']\n",
    "        to_store.append(store)\n",
    "    tweets_st.insert_many(to_store)"
   ]
  },
  {
   "cell_type": "code",
   "execution_count": 3,
   "id": "primary-perfume",
   "metadata": {},
   "outputs": [
    {
     "data": {
      "application/vnd.jupyter.widget-view+json": {
       "model_id": "7d9daf4cca764ca9adeecdd97cd49510",
       "version_major": 2,
       "version_minor": 0
      },
      "text/plain": [
       "  0%|          | 0/299118 [00:00<?, ?it/s]"
      ]
     },
     "metadata": {},
     "output_type": "display_data"
    }
   ],
   "source": [
    "total = tweets.count_documents({})\n",
    "\n",
    "to_process = []\n",
    "\n",
    "for tweet in tqdm(tweets.find(), total=total):\n",
    "    to_process.append(tweet)\n",
    "    if len(to_process) > 10000:\n",
    "        process(to_process)\n",
    "        to_process = []\n",
    "        \n",
    "\n",
    "if len(to_process) > 0:\n",
    "    process(to_process)\n",
    "    to_process = []"
   ]
  }
 ],
 "metadata": {
  "kernelspec": {
   "display_name": "Python 3 (ipykernel)",
   "language": "python",
   "name": "python3"
  },
  "language_info": {
   "codemirror_mode": {
    "name": "ipython",
    "version": 3
   },
   "file_extension": ".py",
   "mimetype": "text/x-python",
   "name": "python",
   "nbconvert_exporter": "python",
   "pygments_lexer": "ipython3",
   "version": "3.11.5"
  }
 },
 "nbformat": 4,
 "nbformat_minor": 5
}
