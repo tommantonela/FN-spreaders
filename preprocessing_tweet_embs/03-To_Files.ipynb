{
 "cells": [
  {
   "cell_type": "code",
   "execution_count": 1,
   "id": "cba47c30-9aa1-4fac-a192-6e102cf4e80b",
   "metadata": {},
   "outputs": [],
   "source": [
    "from pymongo import MongoClient\n",
    "from tqdm.notebook import tqdm\n",
    "import numpy as np\n",
    "import pickle\n",
    "import os\n",
    "\n",
    "conn = MongoClient()\n",
    "\n",
    "\n",
    "process_fibvid = conn.process_fibvid\n",
    "tweets_st  = process_fibvid.tweets_st\n",
    "tweets_bert  = process_fibvid.tweets_bert"
   ]
  },
  {
   "cell_type": "code",
   "execution_count": 2,
   "id": "38465072-4651-4ebd-b933-f854cb69aa11",
   "metadata": {},
   "outputs": [],
   "source": [
    "def process(coll, **extractors):\n",
    "    total = coll.estimated_document_count({})\n",
    "    tweetIds = []\n",
    "    embs = {k: [] for k in extractors.keys()}\n",
    "    with conn.start_session() as session: \n",
    "        for tweet in tqdm(coll.find(no_cursor_timeout=True, \n",
    "                                            session=session), total=total):\n",
    "            tweetIds.append(tweet['tweetId'])\n",
    "            for k, e in extractors.items():\n",
    "                embs[k].append(e(tweet))\n",
    "    embs = {k: np.asarray(v) for k, v in embs.items()}\n",
    "    tweetIds = {v: i for i, v in enumerate(tweetIds)}\n",
    "    return tweetIds, embs"
   ]
  },
  {
   "cell_type": "code",
   "execution_count": 3,
   "id": "ce8f247c-eaf7-4ee3-9afd-f95ebfc74765",
   "metadata": {},
   "outputs": [
    {
     "data": {
      "application/vnd.jupyter.widget-view+json": {
       "model_id": "5a5c8ebf59904645a81c45404f3f58d0",
       "version_major": 2,
       "version_minor": 0
      },
      "text/plain": [
       "  0%|          | 0/299118 [00:00<?, ?it/s]"
      ]
     },
     "metadata": {},
     "output_type": "display_data"
    }
   ],
   "source": [
    "tweetId, embs = process(tweets_st, embs=lambda x: np.asarray(x['embs']))"
   ]
  },
  {
   "cell_type": "code",
   "execution_count": 4,
   "id": "e40b8205-c726-4f78-917b-52d386b1b8bc",
   "metadata": {},
   "outputs": [],
   "source": [
    "if not os.path.exists('st_embs'):\n",
    "    os.makedirs('st_embs')\n",
    "\n",
    "np.savez_compressed('st_embs/embs.npz', **embs)\n",
    "with open('st_embs/tweetId_pos.pickle', 'wb') as f:\n",
    "    pickle.dump(tweetId, f)\n",
    "del tweetId\n",
    "del embs "
   ]
  },
  {
   "cell_type": "code",
   "execution_count": 5,
   "id": "3d67583d-9019-416f-8e1e-b40991bccf63",
   "metadata": {},
   "outputs": [
    {
     "data": {
      "application/vnd.jupyter.widget-view+json": {
       "model_id": "bb3687e5e5494c268edc1eea2cbd666d",
       "version_major": 2,
       "version_minor": 0
      },
      "text/plain": [
       "  0%|          | 0/299118 [00:00<?, ?it/s]"
      ]
     },
     "metadata": {},
     "output_type": "display_data"
    }
   ],
   "source": [
    "tweetId, embs = process(tweets_bert, pooler_output=lambda x: np.asarray(x['pooler_output']), \n",
    "                        last_hidden_state=lambda x: np.copy(np.asarray(x['last_hidden_state'])[-1,:]))"
   ]
  },
  {
   "cell_type": "code",
   "execution_count": 6,
   "id": "73319c28-6829-45e7-9ce7-a5f7db06a996",
   "metadata": {},
   "outputs": [],
   "source": [
    "if not os.path.exists('bert_embs'):\n",
    "    os.makedirs('bert_embs')\n",
    "\n",
    "np.savez_compressed('bert_embs/pooler_output.npz', embs=embs['pooler_output'])\n",
    "np.savez_compressed('bert_embs/last_hidden_state.npz', embs=embs['last_hidden_state'])\n",
    "with open('bert_embs/tweetId_pos.pickle', 'wb') as f:\n",
    "    pickle.dump(tweetId, f)\n",
    "del tweetId\n",
    "del embs "
   ]
  },
  {
   "cell_type": "code",
   "execution_count": 7,
   "id": "19b04602-fe0c-44fc-b0ea-11c32d515a32",
   "metadata": {},
   "outputs": [
    {
     "name": "stdout",
     "output_type": "stream",
     "text": [
      "Ok.\n"
     ]
    }
   ],
   "source": [
    "print('Ok.')"
   ]
  },
  {
   "cell_type": "code",
   "execution_count": null,
   "id": "7d48e636-3fbf-4fa6-bfa3-33d425ffca53",
   "metadata": {},
   "outputs": [],
   "source": []
  }
 ],
 "metadata": {
  "kernelspec": {
   "display_name": "Python 3 (ipykernel)",
   "language": "python",
   "name": "python3"
  },
  "language_info": {
   "codemirror_mode": {
    "name": "ipython",
    "version": 3
   },
   "file_extension": ".py",
   "mimetype": "text/x-python",
   "name": "python",
   "nbconvert_exporter": "python",
   "pygments_lexer": "ipython3",
   "version": "3.11.5"
  }
 },
 "nbformat": 4,
 "nbformat_minor": 5
}
